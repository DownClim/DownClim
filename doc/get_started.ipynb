{
 "cells": [
  {
   "cell_type": "markdown",
   "metadata": {},
   "source": [
    "# Get started with DownClim"
   ]
  },
  {
   "cell_type": "markdown",
   "metadata": {},
   "source": [
    "`DownClim` is a simple and easy to use Python package for performing a climate downscaling on future climatic projections. Based on a reference product, and a set of projections from [CMIP6](https://pcmdi.llnl.gov/CMIP6/) and [CORDEX](https://cordex.org/) simulations, `DownClim` will help you to generate a climate projection for your region of interest.\n",
    "\n",
    "Let's see it in action!"
   ]
  },
  {
   "cell_type": "markdown",
   "metadata": {},
   "source": [
    "## The `DownClimContext` object "
   ]
  },
  {
   "cell_type": "code",
   "execution_count": 1,
   "metadata": {},
   "outputs": [],
   "source": [
    "from __future__ import annotations\n",
    "\n",
    "from downclim.downclim import DownClimContext\n",
    "from downclim.dataset.cmip6 import CMIP6Context"
   ]
  },
  {
   "cell_type": "markdown",
   "metadata": {},
   "source": [
    "The `DownClimContext` object is the main object of the `DownClim` package. It contains all the relevant information necessary to perform your downscaling on your area of interest. \n",
    "\n"
   ]
  },
  {
   "cell_type": "markdown",
   "metadata": {},
   "source": [
    "You can check directly the documentation of the `DownClimContext` object to have an extensive overview of how to define it properly. In the following section, we will see the main fields included in the `DownClimContext` object to perform a downscaling."
   ]
  },
  {
   "cell_type": "markdown",
   "metadata": {},
   "source": [
    "### Main fields of the `DownClimContext` object"
   ]
  },
  {
   "cell_type": "markdown",
   "metadata": {},
   "source": [
    "`DownClimContext` objects contain multiple attributes. The most relevant ones are:\n",
    "\n",
    "- `aois`: the areas of interest. You can define one or multiple areas of interest, and you have the possibility to define them either as a `str`, a `geopandas.GeoDataFrame` or a simple Python `tuple` of coordinates.\n",
    "    - `str`: the name provided must be recognized by [GADM](https://gadm.org/) to retrieve the corresponding shapefile.\n",
    "    - `geopandas.GeoDataFrame` containing the directly shapefile of the area of interest.\n",
    "    - `tuple` of coordinates `(lon_min, lon_max, lat_min, lat_max, str)` where the last `str` is the name of the area of interest.\n",
    "  \n",
    "- `variables`: the variables to downscale. You want to select the climate variables that you want to downscale in your future climate. You must provide them as a list of strings, and the name of the variables have to match the `CMIP6` / `CORDEX` naming convention (see [CMIP6 CMOR Tables](https://github.com/PCMDI/cmip6-cmor-tables)). For example, you can select the following variables: `['tas', 'pr']` for 2m temperature and precipitation. Please note that the variables selected must be available both in the climate simulations and in the reference product.\n",
    "\n",
    "- `baseline_product`: the reference product used for downscaling. \n",
    "\n",
    "- `downscaling_methods`: the downscaling method to use. To downscale your climate data on your area of interest, you might want to use different downscaling methods. So far, `DownClim` only supports the `bias_correction` method, but other methods can be easily adopted and will be available soon.\n",
    "\n",
    "- `use_cmip6` & `use_cordex`: whether to use CMIP6 or CORDEX simulations. You can select the climate simulation you want to use for your future projections. `CMIP6` projections are available for a large number of models and scenarios, at global scale and usually at a coarse resolution. `CORDEX` simulations are regional projections, much less numerous but at a finer resolution.\n",
    "\n",
    "- `baseline_periods`, `evaluation_periods`, `projection_periods`: the years to use for the baseline, evaluation and projection periods. To perform a downscaling, you must define the baseline period, evaluation period and projection period. \n",
    "  - The baseline period is the period used to calibrate the downscaling method. It is a historical period that must overlap the reference product and the historical climate simulations.\n",
    "  - The evaluation period is the period that overlaps the reference product and the future climate simulations. It is used to evaluate the calibration of the downscaling method performed on the baseline period. \n",
    "  - The projection period is the period for which you want to generate the future climate projections downscaled.\n",
    "\n",
    "\n",
    "You can create a `DownClimContext` object either directly, or by defining a configuration file in a `.yaml` format."
   ]
  },
  {
   "cell_type": "markdown",
   "metadata": {},
   "source": [
    "### `DownClimContext` object creation directly"
   ]
  },
  {
   "cell_type": "markdown",
   "metadata": {},
   "source": [
    "You can instantiate a `DownClimContext` object directly by providing the necessary information either via the constructor or providing a dictionary filled with the required keys. Not all fields are mandatory, and default values are used for the omitted fields."
   ]
  },
  {
   "cell_type": "code",
   "execution_count": null,
   "metadata": {},
   "outputs": [],
   "source": [
    "DownClimContext_example = DownClimContext(\n",
    "    aoi=\"Vanuatu\",\n",
    "    variable=[\"tas\", \"pr\"],\n",
    "    baseline_period=(1980, 1981),\n",
    "    evaluation_period=(2018, 2019),\n",
    "    projection_period=(2099, 2100),\n",
    "    use_cordex=False,\n",
    "    use_cmip6=True,\n",
    "    cmip6_context=CMIP6Context()\n",
    ")\n"
   ]
  },
  {
   "cell_type": "markdown",
   "metadata": {},
   "source": [
    "### `DownClimContext` object creation from a `.yaml` file"
   ]
  },
  {
   "cell_type": "markdown",
   "metadata": {},
   "source": [
    "You can also define a `DownClimContext` object from a `.yaml` file. You must first create a template `.yaml` file. "
   ]
  },
  {
   "cell_type": "code",
   "execution_count": 3,
   "metadata": {},
   "outputs": [],
   "source": [
    "from downclim.downclim import generate_DownClimContext_template_file\n",
    "\n",
    "generate_DownClimContext_template_file(output_file = './DownClimContext_example.yaml')"
   ]
  },
  {
   "cell_type": "markdown",
   "metadata": {},
   "source": [
    "And after filling the sections of the file, your `DownClim` configuration file should look like this:\n",
    "\n",
    "```yaml\n",
    "##\n",
    "## All fields except aoi have default values. If the field is not specified, the default value is used.\n",
    "####################################################\n",
    "# aoi\n",
    "aoi: \"Vanuatu\"\n",
    "\n",
    "# variables\n",
    "variable: [\"tas\", \"tasmin\", \"tasmax\", \"pr\"]\n",
    "time_frequency: \"mon\"\n",
    "\n",
    "# downscaling\n",
    "downscaling_aggregation: \"monthly-mean\"\n",
    "downscaling_method: \"bias_correction\"\n",
    "\n",
    "# data and simulations\n",
    "baseline_product: \"chelsa2\"\n",
    "use_cordex: false\n",
    "use_cmip6: true\n",
    "cordex_context: {}\n",
    "cmip6_context: {}\n",
    "baseline_period: [1980, 2005]\n",
    "evaluation_period: [2006, 2019]\n",
    "projection_period: [2071, 2100]\n",
    "evaluation_product: [\"chirps\", \"chelsa2\"]\n",
    "\n",
    "# internal computation\n",
    "nb_threads: 2\n",
    "memory_mb: 4096\n",
    "chunks: {\"time\": 1, \"lat\": 1000, \"lon\": 1000}\n",
    "\n",
    "# directories\n",
    "output_dir: \"results\"\n",
    "tmp_dir: \"tmp\"\n",
    "keep_tmp_dir: \"False\"\n",
    "\n",
    "# data access\n",
    "esgf_credential: \"../config/esgf_credential.yaml\"\n",
    "```"
   ]
  },
  {
   "cell_type": "code",
   "execution_count": 2,
   "metadata": {},
   "outputs": [
    {
     "data": {
      "text/plain": [
       "{'aoi': [                                            geometry GID_0   NAME_0\n",
       "  0  MULTIPOLYGON (((169.7766 -20.2488, 169.7719 -2...   VUT  Vanuatu],\n",
       " 'variable': ['tas', 'pr'],\n",
       " 'time_frequency': <Frequency.MONTHLY: 'monthly'>,\n",
       " 'downscaling_aggregation': <Aggregation.MONTHLY_MEAN: 'monthly-mean'>,\n",
       " 'baseline_product': <DataProduct.CHELSA: product_name='chelsa', period=(1980, 2019), scale_factor={'pr': 0.1, 'tas': 0.1, 'tasmin': 0.1, 'tasmax': 0.1}, add_offset={'pr': 0, 'tas': -273.15, 'tasmin': -273.15, 'tasmax': -273.15}, url='https://os.zhdk.cloud.switch.ch/chelsav2/GLOBAL'>,\n",
       " 'evaluation_product': [<DataProduct.CHELSA: product_name='chelsa', period=(1980, 2019), scale_factor={'pr': 0.1, 'tas': 0.1, 'tasmin': 0.1, 'tasmax': 0.1}, add_offset={'pr': 0, 'tas': -273.15, 'tasmin': -273.15, 'tasmax': -273.15}, url='https://os.zhdk.cloud.switch.ch/chelsav2/GLOBAL'>],\n",
       " 'downscaling_method': <DownscaleMethod.BIAS_CORRECTION: 'bias_correction'>,\n",
       " 'use_cordex': False,\n",
       " 'use_cmip6': True,\n",
       " 'cordex_context': {'project': ['CORDEX'],\n",
       "  'product': ['output'],\n",
       "  'domain': None,\n",
       "  'institute': None,\n",
       "  'driving_model': None,\n",
       "  'experiment': ['historical', 'rcp26'],\n",
       "  'experiment_family': None,\n",
       "  'ensemble': ['r1i1p1'],\n",
       "  'rcm_name': None,\n",
       "  'rcm_version': None,\n",
       "  'frequency': <Frequency.MONTHLY: 'monthly'>,\n",
       "  'variable': ['tas', 'pr'],\n",
       "  'variable_long_name': None},\n",
       " 'cmip6_context': {'project': ['ScenarioMIP', 'CMIP'],\n",
       "  'institute': None,\n",
       "  'source': None,\n",
       "  'experiment': ['ssp245', 'historical'],\n",
       "  'ensemble': ['r1i1p1f1'],\n",
       "  'frequency': <Frequency.MONTHLY: 'monthly'>,\n",
       "  'variable': ['tas', 'pr'],\n",
       "  'grid_label': None},\n",
       " 'baseline_period': (1980, 2005),\n",
       " 'evaluation_period': (2006, 2019),\n",
       " 'projection_period': (2071, 2100),\n",
       " 'nb_threads': 1,\n",
       " 'memory_mb': 4096,\n",
       " 'chunks': {'time': 1, 'lat': 1000, 'lon': 1000},\n",
       " 'output_dir': './results',\n",
       " 'tmp_dir': './tmp',\n",
       " 'keep_tmp_dir': False,\n",
       " 'cmip6_simulations_to_downscale': None,\n",
       " 'cordex_simulations_to_downscale': None,\n",
       " 'esgf_credentials': None}"
      ]
     },
     "execution_count": 2,
     "metadata": {},
     "output_type": "execute_result"
    }
   ],
   "source": [
    "from downclim.downclim import define_DownClimContext_from_file\n",
    "\n",
    "DownClimContext_example = define_DownClimContext_from_file('./DownClimContext_example.yaml')\n",
    "DownClimContext_example.model_dump()"
   ]
  },
  {
   "cell_type": "markdown",
   "metadata": {},
   "source": [
    "## Download required data"
   ]
  },
  {
   "cell_type": "markdown",
   "metadata": {},
   "source": [
    "Once your `DownClimContext` object is defined correctly, you can download the required data defined in the context. You can do it by using the `download_data` method of the `DownClimContext` object."
   ]
  },
  {
   "cell_type": "code",
   "execution_count": null,
   "metadata": {},
   "outputs": [
    {
     "name": "stdout",
     "output_type": "stream",
     "text": [
      "Downloading baseline product...\n",
      "Downloading CHELSA data...\n",
      "Getting year \"1980\" for variables \"tas\" and areas of interest : \"['Vanuatu']\"\n"
     ]
    },
    {
     "name": "stderr",
     "output_type": "stream",
     "text": [
      "Process ForkPoolWorker-1:\n",
      "Traceback (most recent call last):\n",
      "  File \"/Users/arsouze/miniconda3/envs/downclim/lib/python3.13/site-packages/xarray/backends/file_manager.py\", line 211, in _acquire_with_cache_info\n",
      "    file = self._cache[self._key]\n",
      "           ~~~~~~~~~~~^^^^^^^^^^^\n",
      "  File \"/Users/arsouze/miniconda3/envs/downclim/lib/python3.13/site-packages/xarray/backends/lru_cache.py\", line 56, in __getitem__\n",
      "    value = self._cache[key]\n",
      "            ~~~~~~~~~~~^^^^^\n",
      "KeyError: [<function open at 0x1442c4cc0>, ('https://os.zhdk.cloud.switch.ch/chelsav2/GLOBAL/monthly/tas/CHELSA_tas_09_1980_V.2.1.tif',), 'r', (('sharing', False),), 'fd52a22c-0848-4895-b1da-2d44aaba0b61']\n",
      "\n",
      "During handling of the above exception, another exception occurred:\n",
      "\n",
      "Traceback (most recent call last):\n",
      "  File \"/Users/arsouze/miniconda3/envs/downclim/lib/python3.13/site-packages/multiprocess/process.py\", line 313, in _bootstrap\n",
      "    self.run()\n",
      "    ~~~~~~~~^^\n",
      "  File \"/Users/arsouze/miniconda3/envs/downclim/lib/python3.13/site-packages/multiprocess/process.py\", line 108, in run\n",
      "    self._target(*self._args, **self._kwargs)\n",
      "    ~~~~~~~~~~~~^^^^^^^^^^^^^^^^^^^^^^^^^^^^^\n",
      "  File \"/Users/arsouze/miniconda3/envs/downclim/lib/python3.13/site-packages/multiprocess/pool.py\", line 125, in worker\n",
      "    result = (True, func(*args, **kwds))\n",
      "                    ~~~~^^^^^^^^^^^^^^^\n",
      "  File \"/Users/arsouze/miniconda3/envs/downclim/lib/python3.13/site-packages/multiprocess/pool.py\", line 51, in starmapstar\n",
      "    return list(itertools.starmap(args[0], args[1]))\n",
      "  File \"/Users/arsouze/Documents/Modeles/Codes/DownClim/src/downclim/dataset/chelsa2.py\", line 101, in _get_chelsa2_year_var\n",
      "    _get_chelsa2_one_file(aoi_name, aoi_bound, variable, month, year, time_freq)\n",
      "    ~~~~~~~~~~~~~~~~~~~~~^^^^^^^^^^^^^^^^^^^^^^^^^^^^^^^^^^^^^^^^^^^^^^^^^^^^^^^\n",
      "  File \"/Users/arsouze/Documents/Modeles/Codes/DownClim/src/downclim/dataset/chelsa2.py\", line 58, in _get_chelsa2_one_file\n",
      "    ds = rio.open_rasterio(url).to_dataset(\"band\").rename_vars({1: variable})\n",
      "         ~~~~~~~~~~~~~~~~~^^^^^\n",
      "  File \"/Users/arsouze/miniconda3/envs/downclim/lib/python3.13/site-packages/rioxarray/_io.py\", line 1135, in open_rasterio\n",
      "    riods = manager.acquire()\n",
      "  File \"/Users/arsouze/miniconda3/envs/downclim/lib/python3.13/site-packages/xarray/backends/file_manager.py\", line 193, in acquire\n",
      "    file, _ = self._acquire_with_cache_info(needs_lock)\n",
      "              ~~~~~~~~~~~~~~~~~~~~~~~~~~~~~^^^^^^^^^^^^\n",
      "  File \"/Users/arsouze/miniconda3/envs/downclim/lib/python3.13/site-packages/xarray/backends/file_manager.py\", line 217, in _acquire_with_cache_info\n",
      "    file = self._opener(*self._args, **kwargs)\n",
      "  File \"/Users/arsouze/miniconda3/envs/downclim/lib/python3.13/site-packages/rasterio/env.py\", line 463, in wrapper\n",
      "    return f(*args, **kwds)\n",
      "  File \"/Users/arsouze/miniconda3/envs/downclim/lib/python3.13/site-packages/rasterio/__init__.py\", line 356, in open\n",
      "    dataset = DatasetReader(path, driver=driver, sharing=sharing, **kwargs)\n",
      "  File \"rasterio/_base.pyx\", line 331, in rasterio._base.DatasetBase.__init__\n",
      "  File \"rasterio/_base.pyx\", line 353, in rasterio._base.DatasetBase._set_attrs_from_dataset_handle\n",
      "  File \"rasterio/_base.pyx\", line 970, in rasterio._base.DatasetBase.meta.__get__\n",
      "  File \"rasterio/_base.pyx\", line 603, in rasterio._base.DatasetBase.nodata.__get__\n",
      "  File \"rasterio/_base.pyx\", line 584, in rasterio._base.DatasetBase.nodatavals.__get__\n",
      "  File \"rasterio/_base.pyx\", line 564, in rasterio._base.DatasetBase.get_nodatavals\n",
      "  File \"/Users/arsouze/miniconda3/envs/downclim/lib/python3.13/site-packages/rasterio/dtypes.py\", line 112, in in_dtype_range\n",
      "    def in_dtype_range(value, dtype):\n",
      "    \n",
      "KeyboardInterrupt\n"
     ]
    },
    {
     "name": "stdout",
     "output_type": "stream",
     "text": [
      "Getting year \"1987\" for variables \"tas\" and areas of interest : \"['Vanuatu']\"\n"
     ]
    },
    {
     "ename": "KeyboardInterrupt",
     "evalue": "",
     "output_type": "error",
     "traceback": [
      "\u001b[0;31m---------------------------------------------------------------------------\u001b[0m",
      "\u001b[0;31mKeyboardInterrupt\u001b[0m                         Traceback (most recent call last)",
      "Cell \u001b[0;32mIn[3], line 1\u001b[0m\n\u001b[0;32m----> 1\u001b[0m \u001b[43mDownClimContext_example\u001b[49m\u001b[38;5;241;43m.\u001b[39;49m\u001b[43mdownload_data\u001b[49m\u001b[43m(\u001b[49m\u001b[43m)\u001b[49m\n",
      "File \u001b[0;32m~/Documents/Modeles/Codes/DownClim/src/downclim/downclim.py:559\u001b[0m, in \u001b[0;36mDownClimContext.download_data\u001b[0;34m(self)\u001b[0m\n\u001b[1;32m    550\u001b[0m \u001b[38;5;28;01mdef\u001b[39;00m\u001b[38;5;250m \u001b[39m\u001b[38;5;21mdownload_data\u001b[39m(\u001b[38;5;28mself\u001b[39m) \u001b[38;5;241m-\u001b[39m\u001b[38;5;241m>\u001b[39m \u001b[38;5;28;01mNone\u001b[39;00m:\n\u001b[1;32m    551\u001b[0m \u001b[38;5;250m    \u001b[39m\u001b[38;5;124;03m\"\"\"Downloads the data required defined in the DownClim context.\u001b[39;00m\n\u001b[1;32m    552\u001b[0m \n\u001b[1;32m    553\u001b[0m \u001b[38;5;124;03m    This includes the baseline product, evaluation product and simulations data.\u001b[39;00m\n\u001b[0;32m   (...)\u001b[0m\n\u001b[1;32m    557\u001b[0m \u001b[38;5;124;03m        None: the data is downloaded in the output directory.\u001b[39;00m\n\u001b[1;32m    558\u001b[0m \u001b[38;5;124;03m    \"\"\"\u001b[39;00m\n\u001b[0;32m--> 559\u001b[0m     \u001b[38;5;28;43mself\u001b[39;49m\u001b[38;5;241;43m.\u001b[39;49m\u001b[43m_get_baseline_product\u001b[49m\u001b[43m(\u001b[49m\u001b[43m)\u001b[49m\n\u001b[1;32m    560\u001b[0m     \u001b[38;5;28mself\u001b[39m\u001b[38;5;241m.\u001b[39m_get_evaluation_product()\n\u001b[1;32m    561\u001b[0m     \u001b[38;5;28mself\u001b[39m\u001b[38;5;241m.\u001b[39m_get_simulations()\n",
      "File \u001b[0;32m~/Documents/Modeles/Codes/DownClim/src/downclim/downclim.py:418\u001b[0m, in \u001b[0;36mDownClimContext._get_baseline_product\u001b[0;34m(self)\u001b[0m\n\u001b[1;32m    416\u001b[0m \u001b[38;5;28mprint\u001b[39m(\u001b[38;5;124m\"\u001b[39m\u001b[38;5;124mDownloading baseline product...\u001b[39m\u001b[38;5;124m\"\u001b[39m)\n\u001b[1;32m    417\u001b[0m \u001b[38;5;28;01mif\u001b[39;00m \u001b[38;5;28mself\u001b[39m\u001b[38;5;241m.\u001b[39mbaseline_product \u001b[38;5;129;01mis\u001b[39;00m DataProduct\u001b[38;5;241m.\u001b[39mCHELSA:\n\u001b[0;32m--> 418\u001b[0m     \u001b[43mget_chelsa2\u001b[49m\u001b[43m(\u001b[49m\n\u001b[1;32m    419\u001b[0m \u001b[43m        \u001b[49m\u001b[43maoi\u001b[49m\u001b[38;5;241;43m=\u001b[39;49m\u001b[38;5;28;43mself\u001b[39;49m\u001b[38;5;241;43m.\u001b[39;49m\u001b[43maoi\u001b[49m\u001b[43m,\u001b[49m\n\u001b[1;32m    420\u001b[0m \u001b[43m        \u001b[49m\u001b[43mvariable\u001b[49m\u001b[38;5;241;43m=\u001b[39;49m\u001b[38;5;28;43mself\u001b[39;49m\u001b[38;5;241;43m.\u001b[39;49m\u001b[43mvariable\u001b[49m\u001b[43m,\u001b[49m\n\u001b[1;32m    421\u001b[0m \u001b[43m        \u001b[49m\u001b[43mperiod\u001b[49m\u001b[38;5;241;43m=\u001b[39;49m\u001b[38;5;28;43mself\u001b[39;49m\u001b[38;5;241;43m.\u001b[39;49m\u001b[43mbaseline_period\u001b[49m\u001b[43m,\u001b[49m\n\u001b[1;32m    422\u001b[0m \u001b[43m        \u001b[49m\u001b[43mfrequency\u001b[49m\u001b[38;5;241;43m=\u001b[39;49m\u001b[38;5;28;43mself\u001b[39;49m\u001b[38;5;241;43m.\u001b[39;49m\u001b[43mtime_frequency\u001b[49m\u001b[43m,\u001b[49m\n\u001b[1;32m    423\u001b[0m \u001b[43m        \u001b[49m\u001b[43maggregation\u001b[49m\u001b[38;5;241;43m=\u001b[39;49m\u001b[38;5;28;43mself\u001b[39;49m\u001b[38;5;241;43m.\u001b[39;49m\u001b[43mdownscaling_aggregation\u001b[49m\u001b[43m,\u001b[49m\n\u001b[1;32m    424\u001b[0m \u001b[43m        \u001b[49m\u001b[43mnb_threads\u001b[49m\u001b[38;5;241;43m=\u001b[39;49m\u001b[38;5;28;43mself\u001b[39;49m\u001b[38;5;241;43m.\u001b[39;49m\u001b[43mnb_threads\u001b[49m\u001b[43m,\u001b[49m\n\u001b[1;32m    425\u001b[0m \u001b[43m        \u001b[49m\u001b[43moutput_dir\u001b[49m\u001b[38;5;241;43m=\u001b[39;49m\u001b[38;5;28;43mself\u001b[39;49m\u001b[38;5;241;43m.\u001b[39;49m\u001b[43moutput_dir\u001b[49m\u001b[43m,\u001b[49m\n\u001b[1;32m    426\u001b[0m \u001b[43m        \u001b[49m\u001b[43mtmp_dir\u001b[49m\u001b[38;5;241;43m=\u001b[39;49m\u001b[38;5;28;43mself\u001b[39;49m\u001b[38;5;241;43m.\u001b[39;49m\u001b[43mtmp_dir\u001b[49m\u001b[43m,\u001b[49m\n\u001b[1;32m    427\u001b[0m \u001b[43m        \u001b[49m\u001b[43mkeep_tmp_dir\u001b[49m\u001b[38;5;241;43m=\u001b[39;49m\u001b[38;5;28;43mself\u001b[39;49m\u001b[38;5;241;43m.\u001b[39;49m\u001b[43mkeep_tmp_dir\u001b[49m\u001b[43m,\u001b[49m\n\u001b[1;32m    428\u001b[0m \u001b[43m    \u001b[49m\u001b[43m)\u001b[49m\n\u001b[1;32m    429\u001b[0m \u001b[38;5;28;01melif\u001b[39;00m \u001b[38;5;28mself\u001b[39m\u001b[38;5;241m.\u001b[39mbaseline_product \u001b[38;5;129;01mis\u001b[39;00m DataProduct\u001b[38;5;241m.\u001b[39mCHIRPS:\n\u001b[1;32m    430\u001b[0m     get_chirps(\n\u001b[1;32m    431\u001b[0m         aoi\u001b[38;5;241m=\u001b[39m\u001b[38;5;28mself\u001b[39m\u001b[38;5;241m.\u001b[39maoi,\n\u001b[1;32m    432\u001b[0m         period\u001b[38;5;241m=\u001b[39m\u001b[38;5;28mself\u001b[39m\u001b[38;5;241m.\u001b[39mbaseline_period,\n\u001b[0;32m   (...)\u001b[0m\n\u001b[1;32m    435\u001b[0m         output_dir\u001b[38;5;241m=\u001b[39m\u001b[38;5;28mself\u001b[39m\u001b[38;5;241m.\u001b[39moutput_dir,\n\u001b[1;32m    436\u001b[0m     )\n",
      "File \u001b[0;32m~/Documents/Modeles/Codes/DownClim/src/downclim/dataset/chelsa2.py:217\u001b[0m, in \u001b[0;36mget_chelsa2\u001b[0;34m(aoi, variable, period, frequency, aggregation, nb_threads, output_dir, tmp_dir, keep_tmp_dir)\u001b[0m\n\u001b[1;32m    207\u001b[0m pool \u001b[38;5;241m=\u001b[39m Pool(nb_threads)\n\u001b[1;32m    208\u001b[0m \u001b[38;5;28;01mfor\u001b[39;00m var \u001b[38;5;129;01min\u001b[39;00m variable:\n\u001b[1;32m    209\u001b[0m     paths\u001b[38;5;241m.\u001b[39mappend(\n\u001b[1;32m    210\u001b[0m         \u001b[43mpool\u001b[49m\u001b[38;5;241;43m.\u001b[39;49m\u001b[43mstarmap_async\u001b[49m\u001b[43m(\u001b[49m\n\u001b[1;32m    211\u001b[0m \u001b[43m        \u001b[49m\u001b[38;5;66;43;03m#pool.starmap(\u001b[39;49;00m\n\u001b[1;32m    212\u001b[0m \u001b[43m            \u001b[49m\u001b[43m_get_chelsa2_year_var\u001b[49m\u001b[43m,\u001b[49m\n\u001b[1;32m    213\u001b[0m \u001b[43m            \u001b[49m\u001b[43m[\u001b[49m\n\u001b[1;32m    214\u001b[0m \u001b[43m                \u001b[49m\u001b[43m(\u001b[49m\u001b[43maoi_name\u001b[49m\u001b[43m,\u001b[49m\u001b[43m \u001b[49m\u001b[43maoi_bound\u001b[49m\u001b[43m,\u001b[49m\u001b[43m \u001b[49m\u001b[43myear\u001b[49m\u001b[43m,\u001b[49m\u001b[43m \u001b[49m\u001b[43mvar\u001b[49m\u001b[43m,\u001b[49m\u001b[43m \u001b[49m\u001b[43mfrequency\u001b[49m\u001b[43m,\u001b[49m\u001b[43m \u001b[49m\u001b[43mtmp_dir\u001b[49m\u001b[43m)\u001b[49m\n\u001b[1;32m    215\u001b[0m \u001b[43m                \u001b[49m\u001b[38;5;28;43;01mfor\u001b[39;49;00m\u001b[43m \u001b[49m\u001b[43myear\u001b[49m\u001b[43m \u001b[49m\u001b[38;5;129;43;01min\u001b[39;49;00m\u001b[43m \u001b[49m\u001b[43myears\u001b[49m\n\u001b[1;32m    216\u001b[0m \u001b[43m            \u001b[49m\u001b[43m]\u001b[49m\u001b[43m,\u001b[49m\n\u001b[0;32m--> 217\u001b[0m \u001b[43m        \u001b[49m\u001b[43m)\u001b[49m\u001b[38;5;241;43m.\u001b[39;49m\u001b[43mget\u001b[49m\u001b[43m(\u001b[49m\u001b[43m)\u001b[49m\n\u001b[1;32m    218\u001b[0m     )\n\u001b[1;32m    219\u001b[0m pool\u001b[38;5;241m.\u001b[39mclose()\n\u001b[1;32m    220\u001b[0m paths2 \u001b[38;5;241m=\u001b[39m {\n\u001b[1;32m    221\u001b[0m     aoi_name: [p[aoi_name] \u001b[38;5;28;01mfor\u001b[39;00m path \u001b[38;5;129;01min\u001b[39;00m paths \u001b[38;5;28;01mfor\u001b[39;00m p \u001b[38;5;129;01min\u001b[39;00m path] \u001b[38;5;28;01mfor\u001b[39;00m aoi_name \u001b[38;5;129;01min\u001b[39;00m aoi_name\n\u001b[1;32m    222\u001b[0m }\n",
      "File \u001b[0;32m~/miniconda3/envs/downclim/lib/python3.13/site-packages/multiprocess/pool.py:768\u001b[0m, in \u001b[0;36mApplyResult.get\u001b[0;34m(self, timeout)\u001b[0m\n\u001b[1;32m    767\u001b[0m \u001b[38;5;28;01mdef\u001b[39;00m\u001b[38;5;250m \u001b[39m\u001b[38;5;21mget\u001b[39m(\u001b[38;5;28mself\u001b[39m, timeout\u001b[38;5;241m=\u001b[39m\u001b[38;5;28;01mNone\u001b[39;00m):\n\u001b[0;32m--> 768\u001b[0m     \u001b[38;5;28;43mself\u001b[39;49m\u001b[38;5;241;43m.\u001b[39;49m\u001b[43mwait\u001b[49m\u001b[43m(\u001b[49m\u001b[43mtimeout\u001b[49m\u001b[43m)\u001b[49m\n\u001b[1;32m    769\u001b[0m     \u001b[38;5;28;01mif\u001b[39;00m \u001b[38;5;129;01mnot\u001b[39;00m \u001b[38;5;28mself\u001b[39m\u001b[38;5;241m.\u001b[39mready():\n\u001b[1;32m    770\u001b[0m         \u001b[38;5;28;01mraise\u001b[39;00m \u001b[38;5;167;01mTimeoutError\u001b[39;00m\n",
      "File \u001b[0;32m~/miniconda3/envs/downclim/lib/python3.13/site-packages/multiprocess/pool.py:765\u001b[0m, in \u001b[0;36mApplyResult.wait\u001b[0;34m(self, timeout)\u001b[0m\n\u001b[1;32m    764\u001b[0m \u001b[38;5;28;01mdef\u001b[39;00m\u001b[38;5;250m \u001b[39m\u001b[38;5;21mwait\u001b[39m(\u001b[38;5;28mself\u001b[39m, timeout\u001b[38;5;241m=\u001b[39m\u001b[38;5;28;01mNone\u001b[39;00m):\n\u001b[0;32m--> 765\u001b[0m     \u001b[38;5;28;43mself\u001b[39;49m\u001b[38;5;241;43m.\u001b[39;49m\u001b[43m_event\u001b[49m\u001b[38;5;241;43m.\u001b[39;49m\u001b[43mwait\u001b[49m\u001b[43m(\u001b[49m\u001b[43mtimeout\u001b[49m\u001b[43m)\u001b[49m\n",
      "File \u001b[0;32m~/miniconda3/envs/downclim/lib/python3.13/threading.py:659\u001b[0m, in \u001b[0;36mEvent.wait\u001b[0;34m(self, timeout)\u001b[0m\n\u001b[1;32m    657\u001b[0m signaled \u001b[38;5;241m=\u001b[39m \u001b[38;5;28mself\u001b[39m\u001b[38;5;241m.\u001b[39m_flag\n\u001b[1;32m    658\u001b[0m \u001b[38;5;28;01mif\u001b[39;00m \u001b[38;5;129;01mnot\u001b[39;00m signaled:\n\u001b[0;32m--> 659\u001b[0m     signaled \u001b[38;5;241m=\u001b[39m \u001b[38;5;28;43mself\u001b[39;49m\u001b[38;5;241;43m.\u001b[39;49m\u001b[43m_cond\u001b[49m\u001b[38;5;241;43m.\u001b[39;49m\u001b[43mwait\u001b[49m\u001b[43m(\u001b[49m\u001b[43mtimeout\u001b[49m\u001b[43m)\u001b[49m\n\u001b[1;32m    660\u001b[0m \u001b[38;5;28;01mreturn\u001b[39;00m signaled\n",
      "File \u001b[0;32m~/miniconda3/envs/downclim/lib/python3.13/threading.py:359\u001b[0m, in \u001b[0;36mCondition.wait\u001b[0;34m(self, timeout)\u001b[0m\n\u001b[1;32m    357\u001b[0m \u001b[38;5;28;01mtry\u001b[39;00m:    \u001b[38;5;66;03m# restore state no matter what (e.g., KeyboardInterrupt)\u001b[39;00m\n\u001b[1;32m    358\u001b[0m     \u001b[38;5;28;01mif\u001b[39;00m timeout \u001b[38;5;129;01mis\u001b[39;00m \u001b[38;5;28;01mNone\u001b[39;00m:\n\u001b[0;32m--> 359\u001b[0m         \u001b[43mwaiter\u001b[49m\u001b[38;5;241;43m.\u001b[39;49m\u001b[43macquire\u001b[49m\u001b[43m(\u001b[49m\u001b[43m)\u001b[49m\n\u001b[1;32m    360\u001b[0m         gotit \u001b[38;5;241m=\u001b[39m \u001b[38;5;28;01mTrue\u001b[39;00m\n\u001b[1;32m    361\u001b[0m     \u001b[38;5;28;01melse\u001b[39;00m:\n",
      "\u001b[0;31mKeyboardInterrupt\u001b[0m: "
     ]
    },
    {
     "name": "stdout",
     "output_type": "stream",
     "text": [
      "Concatenating data for area of interest : Vanuatu\n",
      "saving file ./tmp/chelsa_Vanuatu_tas_1987.nc\n",
      "Getting year \"1988\" for variables \"tas\" and areas of interest : \"['Vanuatu']\"\n",
      "Concatenating data for area of interest : Vanuatu\n",
      "saving file ./tmp/chelsa_Vanuatu_tas_1988.nc\n",
      "Getting year \"1989\" for variables \"tas\" and areas of interest : \"['Vanuatu']\"\n",
      "Concatenating data for area of interest : Vanuatu\n",
      "saving file ./tmp/chelsa_Vanuatu_tas_1989.nc\n",
      "Getting year \"1990\" for variables \"tas\" and areas of interest : \"['Vanuatu']\"\n",
      "Concatenating data for area of interest : Vanuatu\n",
      "saving file ./tmp/chelsa_Vanuatu_tas_1990.nc\n",
      "Getting year \"1994\" for variables \"tas\" and areas of interest : \"['Vanuatu']\"\n",
      "Concatenating data for area of interest : Vanuatu\n",
      "saving file ./tmp/chelsa_Vanuatu_tas_1994.nc\n",
      "Getting year \"2001\" for variables \"tas\" and areas of interest : \"['Vanuatu']\"\n",
      "Concatenating data for area of interest : Vanuatu\n",
      "saving file ./tmp/chelsa_Vanuatu_tas_2001.nc\n"
     ]
    }
   ],
   "source": [
    "DownClimContext_example.download_data()"
   ]
  },
  {
   "cell_type": "markdown",
   "metadata": {},
   "source": [
    "## Perform a downscaling"
   ]
  },
  {
   "cell_type": "markdown",
   "metadata": {},
   "source": [
    "Once your `DownClimContext` object is defined correctly, you can directly perform a downscaling according to the context.\n",
    "\n",
    "If your data (either reference product or simulations) are not already downloaded, `DownClim` will do it first."
   ]
  },
  {
   "cell_type": "code",
   "execution_count": 8,
   "metadata": {},
   "outputs": [
    {
     "ename": "SyntaxError",
     "evalue": "invalid syntax (2063765836.py, line 1)",
     "output_type": "error",
     "traceback": [
      "\u001b[0;36m  Cell \u001b[0;32mIn[8], line 1\u001b[0;36m\u001b[0m\n\u001b[0;31m    from downclim.\u001b[0m\n\u001b[0m                  ^\u001b[0m\n\u001b[0;31mSyntaxError\u001b[0m\u001b[0;31m:\u001b[0m invalid syntax\n"
     ]
    }
   ],
   "source": [
    "from downclim."
   ]
  },
  {
   "cell_type": "code",
   "execution_count": null,
   "metadata": {},
   "outputs": [],
   "source": []
  },
  {
   "cell_type": "markdown",
   "metadata": {},
   "source": []
  },
  {
   "cell_type": "markdown",
   "metadata": {},
   "source": []
  }
 ],
 "metadata": {
  "kernelspec": {
   "display_name": "downclim",
   "language": "python",
   "name": "python3"
  },
  "language_info": {
   "codemirror_mode": {
    "name": "ipython",
    "version": 3
   },
   "file_extension": ".py",
   "mimetype": "text/x-python",
   "name": "python",
   "nbconvert_exporter": "python",
   "pygments_lexer": "ipython3",
   "version": "3.13.2"
  }
 },
 "nbformat": 4,
 "nbformat_minor": 2
}
