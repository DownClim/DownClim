{
 "cells": [
  {
   "cell_type": "markdown",
   "metadata": {},
   "source": [
    "# Get started with DownClim"
   ]
  },
  {
   "cell_type": "markdown",
   "metadata": {},
   "source": [
    "`DownClim` is a simple and easy to use Python package for performing a climate downscaling on future climatic projections. Based on a reference product, and a set of projections from [CMIP6](https://pcmdi.llnl.gov/CMIP6/) and [CORDEX](https://cordex.org/) simulations, `DownClim` will help you to generate a climate projection for your region of interest.\n",
    "\n",
    "Let's see it in action!"
   ]
  },
  {
   "cell_type": "markdown",
   "metadata": {},
   "source": [
    "## The `DownClimContext` object "
   ]
  },
  {
   "cell_type": "code",
   "execution_count": 1,
   "metadata": {},
   "outputs": [],
   "source": [
    "from __future__ import annotations\n",
    "\n",
    "from downclim.downclim import DownClimContext\n",
    "from downclim.dataset.cmip6 import CMIP6Context"
   ]
  },
  {
   "cell_type": "markdown",
   "metadata": {},
   "source": [
    "The `DownClimContext` object is the main object of the `DownClim` package. It contains all the relevant information necessary to perform your downscaling on your area of interest. \n",
    "\n"
   ]
  },
  {
   "cell_type": "markdown",
   "metadata": {},
   "source": [
    "You can check directly the documentation of the `DownClimContext` object to have an extensive overview of how to define it properly. In the following section, we will see the main fields included in the `DownClimContext` object to perform a downscaling."
   ]
  },
  {
   "cell_type": "markdown",
   "metadata": {},
   "source": [
    "### Main fields of the `DownClimContext` object"
   ]
  },
  {
   "cell_type": "markdown",
   "metadata": {},
   "source": [
    "`DownClimContext` objects contain multiple attributes. The most relevant ones are:\n",
    "\n",
    "- `aois`: the areas of interest. You can define one or multiple areas of interest, and you have the possibility to define them either as a `str`, a `geopandas.GeoDataFrame` or a simple Python `tuple` of coordinates.\n",
    "    - `str`: the name provided must be recognized by [GADM](https://gadm.org/) to retrieve the corresponding shapefile.\n",
    "    - `geopandas.GeoDataFrame` containing the directly shapefile of the area of interest.\n",
    "    - `tuple` of coordinates `(lon_min, lon_max, lat_min, lat_max, str)` where the last `str` is the name of the area of interest.\n",
    "  \n",
    "- `variables`: the variables to downscale. You want to select the climate variables that you want to downscale in your future climate. You must provide them as a list of strings, and the name of the variables have to match the `CMIP6` / `CORDEX` naming convention (see [CMIP6 CMOR Tables](https://github.com/PCMDI/cmip6-cmor-tables)). For example, you can select the following variables: `['tas', 'pr']` for 2m temperature and precipitation. Please note that the variables selected must be available both in the climate simulations and in the reference product.\n",
    "\n",
    "- `baseline_product`: the reference product used for downscaling. \n",
    "\n",
    "- `downscaling_methods`: the downscaling method to use. To downscale your climate data on your area of interest, you might want to use different downscaling methods. So far, `DownClim` only supports the `bias_correction` method, but other methods can be easily adopted and will be available soon.\n",
    "\n",
    "- `use_cmip6` & `use_cordex`: whether to use CMIP6 or CORDEX simulations. You can select the climate simulation you want to use for your future projections. `CMIP6` projections are available for a large number of models and scenarios, at global scale and usually at a coarse resolution. `CORDEX` simulations are regional projections, much less numerous but at a finer resolution.\n",
    "\n",
    "- `baseline_periods`, `evaluation_periods`, `projection_periods`: the years to use for the baseline, evaluation and projection periods. To perform a downscaling, you must define the baseline period, evaluation period and projection period. \n",
    "  - The baseline period is the period used to calibrate the downscaling method. It is a historical period that must overlap the reference product and the historical climate simulations.\n",
    "  - The evaluation period is the period that overlaps the reference product and the future climate simulations. It is used to evaluate the calibration of the downscaling method performed on the baseline period. \n",
    "  - The projection period is the period for which you want to generate the future climate projections downscaled.\n",
    "\n",
    "\n",
    "You can create a `DownClimContext` object either directly, or by defining a configuration file in a `.yaml` format."
   ]
  },
  {
   "cell_type": "markdown",
   "metadata": {},
   "source": [
    "### `DownClimContext` object creation directly"
   ]
  },
  {
   "cell_type": "markdown",
   "metadata": {},
   "source": [
    "You can instantiate a `DownClimContext` object directly by providing the necessary information either via the constructor or providing a dictionary filled with the required keys. Not all fields are mandatory, and default values are used for the omitted fields."
   ]
  },
  {
   "cell_type": "code",
   "execution_count": 2,
   "metadata": {},
   "outputs": [],
   "source": [
    "DownClimContext_example = DownClimContext(\n",
    "    aoi=\"Vanuatu\",\n",
    "    variable=[\"tas\", \"tasmin\", \"tasmax\", \"pr\"],\n",
    "    baseline_period=(1980, 2005),\n",
    "    evaluation_period=(2006, 2019),\n",
    "    projection_period=(2071, 2100),\n",
    "    use_cordex=False,\n",
    "    use_cmip6=True,\n",
    "    cmip6_context=CMIP6Context()\n",
    ")\n"
   ]
  },
  {
   "cell_type": "markdown",
   "metadata": {},
   "source": [
    "### `DownClimContext` object creation from a `.yaml` file"
   ]
  },
  {
   "cell_type": "markdown",
   "metadata": {},
   "source": [
    "You can also define a `DownClimContext` object from a `.yaml` file. You must first create a template `.yaml` file. "
   ]
  },
  {
   "cell_type": "code",
   "execution_count": 3,
   "metadata": {},
   "outputs": [],
   "source": [
    "from downclim.downclim import generate_DownClimContext_template_file\n",
    "\n",
    "generate_DownClimContext_template_file(output_file = './DownClimContext_example.yaml')"
   ]
  },
  {
   "cell_type": "markdown",
   "metadata": {},
   "source": [
    "And after filling the sections of the file, your `DownClim` configuration file should look like this:\n",
    "\n",
    "```yaml\n",
    "##\n",
    "## All fields except aoi have default values. If the field is not specified, the default value is used.\n",
    "####################################################\n",
    "# aoi\n",
    "aoi: \"Vanuatu\"\n",
    "\n",
    "# variables\n",
    "variable: [\"tas\", \"tasmin\", \"tasmax\", \"pr\"]\n",
    "time_frequency: \"mon\"\n",
    "\n",
    "# downscaling\n",
    "downscaling_aggregation: \"monthly-mean\"\n",
    "downscaling_method: \"bias_correction\"\n",
    "\n",
    "# data and simulations\n",
    "baseline_product: \"chelsa2\"\n",
    "use_cordex: false\n",
    "use_cmip6: true\n",
    "cordex_context: {}\n",
    "cmip6_context: {}\n",
    "baseline_period: [1980, 2005]\n",
    "evaluation_period: [2006, 2019]\n",
    "projection_period: [2071, 2100]\n",
    "evaluation_product: [\"chirps\", \"chelsa2\"]\n",
    "\n",
    "# internal computation\n",
    "nb_threads: 2\n",
    "memory_mb: 4096\n",
    "chunks: {\"time\": 1, \"lat\": 1000, \"lon\": 1000}\n",
    "\n",
    "# directories\n",
    "output_dir: \"results\"\n",
    "tmp_dir: \"tmp\"\n",
    "keep_tmp_dir: \"False\"\n",
    "\n",
    "# data access\n",
    "esgf_credential: \"../config/esgf_credential.yaml\"\n",
    "```"
   ]
  },
  {
   "cell_type": "code",
   "execution_count": 6,
   "metadata": {},
   "outputs": [
    {
     "data": {
      "text/plain": [
       "{'aoi': [                                            geometry GID_0   NAME_0\n",
       "  0  MULTIPOLYGON (((169.7766 -20.2488, 169.7719 -2...   VUT  Vanuatu],\n",
       " 'variable': ['tas', 'pr'],\n",
       " 'time_frequency': <Frequency.MONTHLY: 'monthly'>,\n",
       " 'downscaling_aggregation': <Aggregation.MONTHLY_MEAN: 'monthly-mean'>,\n",
       " 'baseline_product': <DataProduct.CHELSA: product_name='chelsa', period=(1980, 2019), scale_factor={'pr': 0.1, 'tas': 0.1, 'tasmin': 0.1, 'tasmax': 0.1}, add_offset={'pr': 0, 'tas': -273.15, 'tasmin': -273.15, 'tasmax': -273.15}, url='https://os.zhdk.cloud.switch.ch/chelsav2/GLOBAL'>,\n",
       " 'evaluation_product': [<DataProduct.CHELSA: product_name='chelsa', period=(1980, 2019), scale_factor={'pr': 0.1, 'tas': 0.1, 'tasmin': 0.1, 'tasmax': 0.1}, add_offset={'pr': 0, 'tas': -273.15, 'tasmin': -273.15, 'tasmax': -273.15}, url='https://os.zhdk.cloud.switch.ch/chelsav2/GLOBAL'>],\n",
       " 'downscaling_method': <DownscaleMethod.BIAS_CORRECTION: 'bias_correction'>,\n",
       " 'use_cordex': False,\n",
       " 'use_cmip6': True,\n",
       " 'cordex_context': {'project': ['CORDEX'],\n",
       "  'product': ['output'],\n",
       "  'domain': None,\n",
       "  'institute': None,\n",
       "  'driving_model': None,\n",
       "  'experiment': ['historical', 'rcp26'],\n",
       "  'experiment_family': None,\n",
       "  'ensemble': ['r1i1p1'],\n",
       "  'rcm_name': None,\n",
       "  'rcm_version': None,\n",
       "  'frequency': <Frequency.MONTHLY: 'monthly'>,\n",
       "  'variable': ['tas', 'pr'],\n",
       "  'variable_long_name': None},\n",
       " 'cmip6_context': {'project': ['ScenarioMIP', 'CMIP'],\n",
       "  'institute': None,\n",
       "  'source': None,\n",
       "  'experiment': ['ssp245', 'historical'],\n",
       "  'ensemble': ['r1i1p1f1'],\n",
       "  'frequency': <Frequency.MONTHLY: 'monthly'>,\n",
       "  'variable': ['tas', 'pr'],\n",
       "  'grid_label': None},\n",
       " 'baseline_period': (1980, 2005),\n",
       " 'evaluation_period': (2006, 2019),\n",
       " 'projection_period': (2071, 2100),\n",
       " 'nb_threads': 1,\n",
       " 'memory_mb': 4096,\n",
       " 'chunks': {'time': 1, 'lat': 1000, 'lon': 1000},\n",
       " 'output_dir': './results',\n",
       " 'tmp_dir': './tmp',\n",
       " 'keep_tmp_dir': False,\n",
       " 'cmip6_simulations_to_downscale': None,\n",
       " 'cordex_simulations_to_downscale': None,\n",
       " 'esgf_credentials': None}"
      ]
     },
     "execution_count": 6,
     "metadata": {},
     "output_type": "execute_result"
    }
   ],
   "source": [
    "from downclim.downclim import define_DownClimContext_from_file\n",
    "\n",
    "DownClimContext_example = define_DownClimContext_from_file('./DownClimContext_example.yaml')\n",
    "DownClimContext_example.model_dump()"
   ]
  },
  {
   "cell_type": "markdown",
   "metadata": {},
   "source": [
    "## Download required data"
   ]
  },
  {
   "cell_type": "markdown",
   "metadata": {},
   "source": [
    "Once your `DownClimContext` object is defined correctly, you can download the required data defined in the context. You can do it by using the `download_data` method of the `DownClimContext` object."
   ]
  },
  {
   "cell_type": "code",
   "execution_count": null,
   "metadata": {},
   "outputs": [],
   "source": [
    "DownClimContext_example.download_data()"
   ]
  },
  {
   "cell_type": "markdown",
   "metadata": {},
   "source": [
    "## Perform a downscaling"
   ]
  },
  {
   "cell_type": "markdown",
   "metadata": {},
   "source": [
    "Once your `DownClimContext` object is defined correctly, you can directly perform a downscaling according to the context.\n",
    "\n",
    "If your data (either reference product or simulations) are not already downloaded, `DownClim` will do it first."
   ]
  },
  {
   "cell_type": "code",
   "execution_count": 8,
   "metadata": {},
   "outputs": [
    {
     "ename": "SyntaxError",
     "evalue": "invalid syntax (2063765836.py, line 1)",
     "output_type": "error",
     "traceback": [
      "\u001b[0;36m  Cell \u001b[0;32mIn[8], line 1\u001b[0;36m\u001b[0m\n\u001b[0;31m    from downclim.\u001b[0m\n\u001b[0m                  ^\u001b[0m\n\u001b[0;31mSyntaxError\u001b[0m\u001b[0;31m:\u001b[0m invalid syntax\n"
     ]
    }
   ],
   "source": [
    "from downclim."
   ]
  },
  {
   "cell_type": "code",
   "execution_count": null,
   "metadata": {},
   "outputs": [],
   "source": []
  },
  {
   "cell_type": "markdown",
   "metadata": {},
   "source": []
  },
  {
   "cell_type": "markdown",
   "metadata": {},
   "source": []
  }
 ],
 "metadata": {
  "kernelspec": {
   "display_name": "downclim",
   "language": "python",
   "name": "python3"
  },
  "language_info": {
   "codemirror_mode": {
    "name": "ipython",
    "version": 3
   },
   "file_extension": ".py",
   "mimetype": "text/x-python",
   "name": "python",
   "nbconvert_exporter": "python",
   "pygments_lexer": "ipython3",
   "version": "3.13.2"
  }
 },
 "nbformat": 4,
 "nbformat_minor": 2
}
