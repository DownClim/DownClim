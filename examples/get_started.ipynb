{
 "cells": [
  {
   "cell_type": "markdown",
   "metadata": {},
   "source": [
    "# Get started with DownClim"
   ]
  },
  {
   "cell_type": "markdown",
   "metadata": {},
   "source": [
    "`DownClim` is a simple and easy to use Python package for performing a climate downscaling. Based on a reference product, and a set of projections from [`CMIP6`](https://pcmdi.llnl.gov/CMIP6/) and [`CORDEX`](https://cordex.org/) simulations, `DownClim` will help you to generate a climate projection for your region of interest.\n",
    "\n",
    "Let's see it in action!"
   ]
  },
  {
   "cell_type": "markdown",
   "metadata": {},
   "source": [
    "## The `DownClimContext` object "
   ]
  },
  {
   "cell_type": "markdown",
   "metadata": {},
   "source": [
    "The `DownClimContext` object is the main object of the `DownClim` package. It contains all the relevant information necessary to perform your downscaling on your area of interest. \n",
    "\n",
    "You can check directly the documentation of the `DownClimContext` object to have an extensive overview of how to define it properly. In the following section, we will see the main fields included in the `DownClimContext` object to perform a downscaling. "
   ]
  },
  {
   "cell_type": "markdown",
   "metadata": {},
   "source": [
    "### Main fields of the `DownClimContext` object"
   ]
  },
  {
   "cell_type": "markdown",
   "metadata": {},
   "source": [
    "`DownClimContext` objects contain multiple attributes. The most relevant ones are:\n",
    "\n",
    "- `aois`: the areas of interest. You can define one or multiple areas of interest, and you have the possibility to define them either as a `str`, a `geopandas.GeoDataFrame` or a simple Python `tuple` of coordinates.\n",
    "    - `str`: the name provided must be recognized by [`gadm`](https://gadm.org/) to retrieve the corresponding shapefile.\n",
    "    - `geopandas.GeoDataFrame` containing the directly shapefile of the area of interest.\n",
    "    - `tuple` of coordinates `(lon_min, lon_max, lat_min, lat_max, str)` where the last `str` is the name of the area of interest.\n",
    "  \n",
    "- `variables`: the variables to downscale\n",
    "- `baseline_product`: the reference product used for downscaling\n",
    "- `downscaling_methods`: the downscaling method to use\n",
    "- `use_cmip6` & `use_cordex`: whether to use CMIP6 or CORDEX simulations\n",
    "- `baseline_years`, `evaluation_years`, `projection_years`: the years to use for the baseline, evaluation and projection periods\n",
    "\n",
    "\n",
    "You can create a `DownClimContext` object either directly, or by defining a configuration file in a `.yaml` format."
   ]
  }
 ],
 "metadata": {
  "language_info": {
   "name": "python"
  }
 },
 "nbformat": 4,
 "nbformat_minor": 2
}
