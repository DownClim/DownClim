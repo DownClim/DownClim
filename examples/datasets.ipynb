{
 "cells": [
  {
   "cell_type": "markdown",
   "metadata": {
    "vscode": {
     "languageId": "plaintext"
    }
   },
   "source": [
    "# Datasets accessible with `Downclim`"
   ]
  },
  {
   "cell_type": "markdown",
   "metadata": {},
   "source": [
    "`Downclim` is designed to be a simple and easy-to-use tool for downloading climate datasets. \n",
    "\n",
    "In this page, we provide a brief description of all the datasets that are accessible with `Downclim`, as well as a short example of how to download them."
   ]
  },
  {
   "cell_type": "markdown",
   "metadata": {},
   "source": [
    "## Historical datasets based on observations"
   ]
  },
  {
   "cell_type": "markdown",
   "metadata": {},
   "source": [
    "### CHELSA2 dataset"
   ]
  },
  {
   "cell_type": "markdown",
   "metadata": {},
   "source": [
    "[CHELSA2 dataset](https://chelsa-climate.org/) is a very high-resolution (30 arc sec, ~1km) downscaled climate dataset for the entire globe. Currently it is updated in version `v2.1`, and data is available from 1979 to 2020. Reference product used for downscaling is ERA5 reanalysis data.\n",
    "\n",
    "If you use monthly mean variables (the only option available so far), available variables are:\n",
    "\n",
    "| Variable | Description |\n",
    "| --- | --- |\n",
    "| `clt` | Cloud cover |\n",
    "| `cmi` | Climatic moisture index (difference between precipitation amount and potential evapotranspiration) |\n",
    "| `hurs` | Near surface relative humidity |\n",
    "| `pet` | Potential evapotranspiration |\n",
    "| `pr` | Precipitation |\n",
    "| `rsds` | Downward shortwave radiation flux |\n",
    "| `sfcWind` | Near surface wind speed |\n",
    "| `tas` | near-surface mean air temperature |\n",
    "| `tasmin` | near-surface minimum air temperature |\n",
    "| `tasmax` | near-surface maximum air temperature |\n",
    "| `vpd` | Vapour pressure deficit |\n"
   ]
  },
  {
   "cell_type": "markdown",
   "metadata": {},
   "source": [
    "### CHIRPS dataset"
   ]
  },
  {
   "cell_type": "markdown",
   "metadata": {},
   "source": [
    "[CHIRPS dataset](https://www.chc.ucsb.edu/data/chirps) is a high-resolution (0.05°, ~5km) quasi-global (50°S - 50°N) gridded rainfall dataset. Data is available from 1981 to near-present. Data is available at daily time scale.\n",
    "\n",
    "Only one variable is available for this dataset:\n",
    "| Variable | Description |\n",
    "| --- | --- |\n",
    "| `pr` | Precipitation |"
   ]
  },
  {
   "cell_type": "markdown",
   "metadata": {},
   "source": [
    "### GHSTD dataset"
   ]
  },
  {
   "cell_type": "markdown",
   "metadata": {},
   "source": [
    "The \"Global Seamless High-resolution Temperature Dataset\" (citation) is a high-resolution (30 arc sec, ~1km) temperature dataset for the entire globe. It is based on the MODIS land surface temperature product and is available from 2001 to 2020. It uses the Estimation of Temperature Difference (ETD) method and employs a machine learning algorithm to estimate monthly values of temperature mean, min and max.\n",
    "\n",
    "It is available on the [Google Earth Engne data catalog](https://gee-community-catalog.org/projects/gshtd/).\n",
    "\n",
    "Available variables are:\n",
    "\n",
    "| Variable | Description |\n",
    "| --- | --- |\n",
    "| `tas` | near-surface mean air temperature |\n",
    "| `tasmin` | near-surface minimum air temperature |\n",
    "| `tasmax` | near-surface maximum air temperature |"
   ]
  },
  {
   "cell_type": "markdown",
   "metadata": {},
   "source": [
    "## Simulations datasets for historical and future periods"
   ]
  },
  {
   "cell_type": "markdown",
   "metadata": {},
   "source": [
    "### CMIP6 dataset"
   ]
  },
  {
   "cell_type": "markdown",
   "metadata": {},
   "source": [
    "### CORDEX dataset"
   ]
  },
  {
   "cell_type": "markdown",
   "metadata": {},
   "source": []
  }
 ],
 "metadata": {
  "language_info": {
   "name": "python"
  }
 },
 "nbformat": 4,
 "nbformat_minor": 2
}
